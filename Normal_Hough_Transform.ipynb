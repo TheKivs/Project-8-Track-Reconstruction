{
 "cells": [
  {
   "cell_type": "markdown",
   "metadata": {},
   "source": [
    "The Hough transform is a feature extraction technique used in image analysis and digital image processing.The purpose of the technique is to find imperfect instances of objects within a certain class of shapes by a voting procedure. This voting procedure is carried out in a parameter space, from which object candidates are obtained as local maxima in a so-called accumulator space that is explicitly constructed by the algorithm for computing the Hough transform. "
   ]
  },
  {
   "cell_type": "code",
   "execution_count": 1,
   "metadata": {},
   "outputs": [
    {
     "name": "stdout",
     "output_type": "stream",
     "text": [
      "Collecting opencv-contrib-python\n",
      "  Downloading https://files.pythonhosted.org/packages/c6/a1/d0fd1ea9d5417437e6271e7f88d3ed155f64a979d3ccd926a3b21d4404dd/opencv_contrib_python-4.2.0.34-cp37-cp37m-win_amd64.whl (39.5MB)\n",
      "Requirement already satisfied: numpy>=1.14.5 in c:\\users\\kaustav dutta\\anaconda3\\lib\\site-packages (from opencv-contrib-python) (1.16.5)\n",
      "Installing collected packages: opencv-contrib-python\n",
      "Successfully installed opencv-contrib-python-4.2.0.34\n"
     ]
    }
   ],
   "source": [
    "!pip install opencv-contrib-python "
   ]
  },
  {
   "cell_type": "code",
   "execution_count": 3,
   "metadata": {},
   "outputs": [],
   "source": [
    "import cv2\n",
    "import numpy as np"
   ]
  },
  {
   "cell_type": "code",
   "execution_count": 12,
   "metadata": {},
   "outputs": [],
   "source": [
    "img=cv2.imread(r\"\\Users\\Kaustav Dutta\\Desktop\\sudoku.png\")\n",
    "gray=cv2.cvtColor(img,cv2.COLOR_BGR2GRAY)\n",
    "edges=cv2.Canny(gray,50,150,apertureSize=3)\n",
    "lines=cv2.HoughLines(edges,1,np.pi/180,200)"
   ]
  },
  {
   "cell_type": "code",
   "execution_count": 14,
   "metadata": {},
   "outputs": [],
   "source": [
    "for line in lines:\n",
    "    rho,theta=line[0]\n",
    "    a=np.cos(theta)\n",
    "    b=np.sin(theta)\n",
    "    x0=a*rho\n",
    "    y0=b*rho\n",
    "    #x1 stores the rounded off value of (r*cos(theta)-1000*sin(theta))\n",
    "    x1=int(x0+1000*(-b))\n",
    "    #y1 stores the rounded off value of (r*sin(theta)+1000*cos(theta))\n",
    "    y1=int(y0+1000*(a))\n",
    "    #x2 stores the rounded off value of (r*cos(theta)+1000*sin(theta))\n",
    "    x2=int(x0-1000*(-b))\n",
    "    #y2 stores the rounded off value of (r*sin(theta)-1000*cos(theta))\n",
    "    y2=int(y0-1000*(a))\n",
    "    cv2.line(img,(x1,y1),(x2,y2),(0,0,250),2)"
   ]
  },
  {
   "cell_type": "code",
   "execution_count": 15,
   "metadata": {},
   "outputs": [],
   "source": [
    "cv2.imshow('image',img)\n",
    "k=cv2.waitKey(0)\n",
    "cv2.destroyAllWindows()"
   ]
  }
 ],
 "metadata": {
  "kernelspec": {
   "display_name": "Python 3",
   "language": "python",
   "name": "python3"
  },
  "language_info": {
   "codemirror_mode": {
    "name": "ipython",
    "version": 3
   },
   "file_extension": ".py",
   "mimetype": "text/x-python",
   "name": "python",
   "nbconvert_exporter": "python",
   "pygments_lexer": "ipython3",
   "version": "3.7.4"
  }
 },
 "nbformat": 4,
 "nbformat_minor": 2
}
