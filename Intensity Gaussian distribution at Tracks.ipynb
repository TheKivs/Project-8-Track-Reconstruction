{
 "cells": [
  {
   "cell_type": "markdown",
   "metadata": {},
   "source": [
    "The following program works on the understanding that Intensity falls off from the central line track following a Gaussian curve. We can assume the standard deviation=1 and then consider pixels within 3 standard deviations to be signals. \n",
    "\n",
    "Or, we can classify the pixels as signals which fall within the Full Width at Half Maximum (FWHM). The FWHM lies at 2.355*standard deviations from the peak."
   ]
  },
  {
   "cell_type": "code",
   "execution_count": 335,
   "metadata": {},
   "outputs": [],
   "source": [
    "import numpy as np\n",
    "import matplotlib.pyplot as plt\n",
    "import matplotlib.image as mpimg\n",
    "import pandas\n",
    "import math"
   ]
  },
  {
   "cell_type": "markdown",
   "metadata": {},
   "source": [
    "### 1. By simply computing the distance of pixels from the line"
   ]
  },
  {
   "cell_type": "code",
   "execution_count": 153,
   "metadata": {},
   "outputs": [
    {
     "data": {
      "image/png": "[encoded data removed]",
      "text/plain": [
       "<Figure size 432x288 with 1 Axes>"
      ]
     },
     "metadata": {
      "needs_background": "light"
     },
     "output_type": "display_data"
    }
   ],
   "source": [
    "pixel = mpimg.imread(r\"\\Users\\Kaustav Dutta\\Desktop\\test.png\");\n",
    "plt.imshow(pixel)\n",
    "plt.show()"
   ]
  },
  {
   "cell_type": "code",
   "execution_count": 154,
   "metadata": {},
   "outputs": [
    {
     "data": {
      "text/plain": [
       "(20, 20, 3)"
      ]
     },
     "execution_count": 154,
     "metadata": {},
     "output_type": "execute_result"
    }
   ],
   "source": [
    "pixel.shape"
   ]
  },
  {
   "cell_type": "markdown",
   "metadata": {},
   "source": [
    "The equation of line taken is y=x-3"
   ]
  },
  {
   "cell_type": "code",
   "execution_count": 328,
   "metadata": {},
   "outputs": [],
   "source": [
    "sqrt=math.sqrt\n",
    "pi=math.pi\n",
    "alpha=-0.785398\n",
    "sigma=1\n",
    "ybar=10\n",
    "xbar=10"
   ]
  },
  {
   "cell_type": "code",
   "execution_count": 329,
   "metadata": {},
   "outputs": [],
   "source": [
    "for i in range(0,20):\n",
    "    for j in range(0,20):\n",
    "        dist= abs((j+i-10)/sqrt(2))\n",
    "        if(dist>3*sigma):\n",
    "            pixel[j][i]=(0,0,255)\n",
    "        elif((dist>2*sigma)and(dist<=3*sigma)):\n",
    "            pixel[i][j]=(255,140,0)\n",
    "        elif((dist>sigma)and(dist<=2*sigma)):\n",
    "            pixel[i][j]=(218,165,32)\n",
    "        elif((dist>=0)and(dist<=sigma)):\n",
    "            pixel[i][j]=(255,255,0)"
   ]
  },
  {
   "cell_type": "code",
   "execution_count": 330,
   "metadata": {
    "scrolled": true
   },
   "outputs": [
    {
     "data": {
      "image/png": "[encoded data removed]",
      "text/plain": [
       "<Figure size 432x288 with 1 Axes>"
      ]
     },
     "metadata": {
      "needs_background": "light"
     },
     "output_type": "display_data"
    }
   ],
   "source": [
    "plt.imshow(pixel.astype('uint8'))\n",
    "plt.show()"
   ]
  },
  {
   "cell_type": "markdown",
   "metadata": {},
   "source": [
    "### 2. Computing the Gaussian Integral"
   ]
  },
  {
   "cell_type": "code",
   "execution_count": 189,
   "metadata": {},
   "outputs": [
    {
     "data": {
      "image/png": "[encoded data removed]",
      "text/plain": [
       "<Figure size 432x288 with 1 Axes>"
      ]
     },
     "metadata": {
      "needs_background": "light"
     },
     "output_type": "display_data"
    }
   ],
   "source": [
    "pixel = mpimg.imread(r\"\\Users\\Kaustav Dutta\\Desktop\\test.png\");\n",
    "plt.imshow(pixel)\n",
    "plt.show()"
   ]
  },
  {
   "cell_type": "code",
   "execution_count": 325,
   "metadata": {},
   "outputs": [],
   "source": [
    "sqrt=math.sqrt\n",
    "pi=math.pi\n",
    "alpha=-0.785398\n",
    "sigma=1\n",
    "ybar=10\n",
    "xbar=10\n",
    "exp=math.exp\n",
    "cos=math.cos\n",
    "sin=math.sin"
   ]
  },
  {
   "cell_type": "code",
   "execution_count": 326,
   "metadata": {},
   "outputs": [],
   "source": [
    "for i in range(0,20):\n",
    "    for j in range(0,20):\n",
    "        intensity=(1/(sqrt(2*pi*(sigma)**2)))*exp(-((((j-ybar))*cos(alpha))-(((i-xbar))*sin(alpha)))**2/(2*(sigma)**2))\n",
    "        pixel[i][j]=(intensity*2.5,intensity*2.5,0)"
   ]
  },
  {
   "cell_type": "code",
   "execution_count": 327,
   "metadata": {},
   "outputs": [
    {
     "data": {
      "image/png": "[encoded data removed]",
      "text/plain": [
       "<Figure size 432x288 with 1 Axes>"
      ]
     },
     "metadata": {
      "needs_background": "light"
     },
     "output_type": "display_data"
    }
   ],
   "source": [
    "plt.imshow(pixel)\n",
    "plt.show()"
   ]
  },
  {
   "cell_type": "markdown",
   "metadata": {},
   "source": [
    "### 3. Finding out the Standard Deviation"
   ]
  },
  {
   "cell_type": "code",
   "execution_count": 331,
   "metadata": {},
   "outputs": [
    {
     "data": {
      "image/png": "[encoded data removed]",
      "text/plain": [
       "<Figure size 432x288 with 1 Axes>"
      ]
     },
     "metadata": {
      "needs_background": "light"
     },
     "output_type": "display_data"
    }
   ],
   "source": [
    "pixel = mpimg.imread(r\"\\Users\\Kaustav Dutta\\Desktop\\test.png\");\n",
    "plt.imshow(pixel)\n",
    "plt.show()"
   ]
  },
  {
   "cell_type": "code",
   "execution_count": 332,
   "metadata": {},
   "outputs": [],
   "source": [
    "sqrt=math.sqrt\n",
    "pi=math.pi\n",
    "alpha=-0.785398\n",
    "sigma=1\n",
    "ybar=10\n",
    "xbar=10\n",
    "exp=math.exp\n",
    "cos=math.cos\n",
    "sin=math.sin\n",
    "I0=40"
   ]
  },
  {
   "cell_type": "code",
   "execution_count": 333,
   "metadata": {},
   "outputs": [],
   "source": [
    "for i in range(0,20):\n",
    "    for j in range(0,20):\n",
    "        intensity=I0*exp(-((((j-ybar))*cos(alpha))-(((i-xbar))*sin(alpha)))**2/(2*(sigma)**2))\n",
    "        if(intensity>=I0/2):\n",
    "            pixel[i,j]=(255,255,0)\n",
    "        else:\n",
    "            pixel[i][j]=(0,0,0)"
   ]
  },
  {
   "cell_type": "code",
   "execution_count": 334,
   "metadata": {},
   "outputs": [
    {
     "name": "stderr",
     "output_type": "stream",
     "text": [
      "Clipping input data to the valid range for imshow with RGB data ([0..1] for floats or [0..255] for integers).\n"
     ]
    },
    {
     "data": {
      "image/png": "[encoded data removed]",
      "text/plain": [
       "<Figure size 432x288 with 1 Axes>"
      ]
     },
     "metadata": {
      "needs_background": "light"
     },
     "output_type": "display_data"
    }
   ],
   "source": [
    "plt.imshow(pixel)\n",
    "plt.show()"
   ]
  }
 ],
 "metadata": {
  "kernelspec": {
   "display_name": "Python 3",
   "language": "python",
   "name": "python3"
  },
  "language_info": {
   "codemirror_mode": {
    "name": "ipython",
    "version": 3
   },
   "file_extension": ".py",
   "mimetype": "text/x-python",
   "name": "python",
   "nbconvert_exporter": "python",
   "pygments_lexer": "ipython3",
   "version": "3.7.4"
  }
 },
 "nbformat": 4,
 "nbformat_minor": 2
}
