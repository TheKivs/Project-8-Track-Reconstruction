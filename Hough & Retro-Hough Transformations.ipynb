{
 "cells": [
  {
   "cell_type": "markdown",
   "metadata": {},
   "source": [
    "## Hough / Retro-Hough Transformation"
   ]
  },
  {
   "cell_type": "code",
   "execution_count": 865,
   "metadata": {},
   "outputs": [],
   "source": [
    "import numpy as np\n",
    "import matplotlib.pyplot as plt\n",
    "import matplotlib.image as mpimg\n",
    "import pandas\n",
    "import math\n",
    "import random\n",
    "import cv2\n",
    "import scipy.ndimage.filters as filters\n",
    "import scipy.ndimage as ndimage\n",
    "from scipy import stats \n",
    "import sklearn.metrics as metrics"
   ]
  },
  {
   "cell_type": "code",
   "execution_count": 966,
   "metadata": {},
   "outputs": [
    {
     "data": {
      "image/png": "[encoded data removed]",
      "text/plain": [
       "<Figure size 432x288 with 1 Axes>"
      ]
     },
     "metadata": {
      "needs_background": "light"
     },
     "output_type": "display_data"
    }
   ],
   "source": [
    "pixel = mpimg.imread(r\"\\Users\\Kaustav Dutta\\Desktop\\test.png\");\n",
    "plt.imshow(pixel)\n",
    "plt.show()"
   ]
  },
  {
   "cell_type": "markdown",
   "metadata": {},
   "source": [
    "This would be the empty template (20 pixels in height, 20 pixels wide) on which we can form our images!"
   ]
  },
  {
   "cell_type": "code",
   "execution_count": 967,
   "metadata": {},
   "outputs": [],
   "source": [
    "sqrt=math.sqrt\n",
    "pi=math.pi\n",
    "alpha=0.785398\n",
    "sigma=1\n",
    "ybar=10\n",
    "xbar=10\n",
    "exp=math.exp\n",
    "cos=math.cos\n",
    "sin=math.sin\n",
    "I0=2 #This can be set to be the SNR\n",
    "SNR=I0"
   ]
  },
  {
   "cell_type": "markdown",
   "metadata": {},
   "source": [
    "First we would consider the actual track without any noise and then proceed on to introducing noise later on..."
   ]
  },
  {
   "cell_type": "code",
   "execution_count": 968,
   "metadata": {},
   "outputs": [],
   "source": [
    "for i in range(0,20):\n",
    "    for j in range(0,20):\n",
    "        intensity=I0*exp(-((((j-ybar))*cos(alpha))-(((i-xbar))*sin(alpha)))**2/(2*(sigma)**2))\n",
    "        pixel[i,j]=(intensity,intensity,0)"
   ]
  },
  {
   "cell_type": "code",
   "execution_count": 969,
   "metadata": {},
   "outputs": [
    {
     "name": "stderr",
     "output_type": "stream",
     "text": [
      "Clipping input data to the valid range for imshow with RGB data ([0..1] for floats or [0..255] for integers).\n"
     ]
    },
    {
     "data": {
      "image/png": "[encoded data removed]",
      "text/plain": [
       "<Figure size 432x288 with 1 Axes>"
      ]
     },
     "metadata": {
      "needs_background": "light"
     },
     "output_type": "display_data"
    }
   ],
   "source": [
    "plt.imshow(pixel,origin='lower')\n",
    "plt.show()"
   ]
  },
  {
   "cell_type": "markdown",
   "metadata": {},
   "source": [
    "This represents the Gaussian power intensity profile of the track. No threshold has been set here. "
   ]
  },
  {
   "cell_type": "code",
   "execution_count": 970,
   "metadata": {},
   "outputs": [
    {
     "data": {
      "text/plain": [
       "2.0"
      ]
     },
     "execution_count": 970,
     "metadata": {},
     "output_type": "execute_result"
    }
   ],
   "source": [
    "np.max(pixel)"
   ]
  },
  {
   "cell_type": "code",
   "execution_count": 971,
   "metadata": {},
   "outputs": [
    {
     "data": {
      "image/png": "[encoded data removed]",
      "text/plain": [
       "<Figure size 432x288 with 1 Axes>"
      ]
     },
     "metadata": {
      "needs_background": "light"
     },
     "output_type": "display_data"
    }
   ],
   "source": [
    " #Convert color image to grayscale to help extraction of edges\n",
    "\n",
    "pixel_gray=np.dot(pixel, [1,1,1])\n",
    "plt.imshow(pixel_gray ,cmap = plt.get_cmap('gray'),origin='lower');"
   ]
  },
  {
   "cell_type": "markdown",
   "metadata": {},
   "source": [
    "The image has been converted to Grayscale so that we dont have to deal with 3 labels (R,G,B) for each pixel."
   ]
  },
  {
   "cell_type": "code",
   "execution_count": 972,
   "metadata": {},
   "outputs": [
    {
     "data": {
      "text/plain": [
       "4.0"
      ]
     },
     "execution_count": 972,
     "metadata": {},
     "output_type": "execute_result"
    }
   ],
   "source": [
    "np.max(pixel_gray)"
   ]
  },
  {
   "cell_type": "code",
   "execution_count": 1025,
   "metadata": {},
   "outputs": [],
   "source": [
    "binary_gray= mpimg.imread(r\"\\Users\\Kaustav Dutta\\Desktop\\test.png\");\n",
    "for i in range(0,20):\n",
    "    for j in range(0,20):\n",
    "        if(pixel_gray[i,j]>=(np.max(pixel_gray))/2):\n",
    "            binary_gray[i,j]=(1,1,1)\n",
    "        else:\n",
    "            binary_gray[i,j]=(0,0,0)"
   ]
  },
  {
   "cell_type": "code",
   "execution_count": 1206,
   "metadata": {},
   "outputs": [
    {
     "data": {
      "image/png": "[encoded data removed]",
      "text/plain": [
       "<Figure size 432x288 with 1 Axes>"
      ]
     },
     "metadata": {
      "needs_background": "light"
     },
     "output_type": "display_data"
    }
   ],
   "source": [
    "plt.imshow(binary_gray,origin='lower')\n",
    "plt.show()"
   ]
  },
  {
   "cell_type": "markdown",
   "metadata": {},
   "source": [
    "The above image is the Binary Spectrogram for the track, taking threshold as I0/4. Pixels having intensities above I0/4 are marked as 1 and others have been marked as 0. This should be close to 3 SDs from the mean."
   ]
  },
  {
   "cell_type": "markdown",
   "metadata": {},
   "source": [
    "Now introducing Gaussian noise to every pixel.."
   ]
  },
  {
   "cell_type": "code",
   "execution_count": 1221,
   "metadata": {},
   "outputs": [],
   "source": [
    "pixel_new= mpimg.imread(r\"\\Users\\Kaustav Dutta\\Desktop\\test.png\");\n",
    "#for i in range(0,20):\n",
    "    #for j in range(0,20):\n",
    "        #noise=np.random.normal(0.1,0.3)\n",
    "        #pixel_new[i,j]=abs((sqrt(SNR)*pixel_gray[i,j])+noise)\n",
    "                \n",
    "pixel_new = np.abs(sqrt(SNR)*pixel_gray + noise)\n",
    "noise=np.random.normal(0,1,(20,20))\n"
   ]
  },
  {
   "cell_type": "code",
   "execution_count": 1222,
   "metadata": {},
   "outputs": [
    {
     "data": {
      "image/png": "[encoded data removed]",
      "text/plain": [
       "<Figure size 432x288 with 1 Axes>"
      ]
     },
     "metadata": {
      "needs_background": "light"
     },
     "output_type": "display_data"
    }
   ],
   "source": [
    "#pixel_new=np.dot(pixel_new,[1,1,1])\n",
    "plt.imshow(pixel_new,origin='lower');\n",
    "plt.show()"
   ]
  },
  {
   "cell_type": "code",
   "execution_count": 1216,
   "metadata": {},
   "outputs": [
    {
     "data": {
      "text/plain": [
       "(20, 20)"
      ]
     },
     "execution_count": 1216,
     "metadata": {},
     "output_type": "execute_result"
    }
   ],
   "source": [
    "pixel_new.shape"
   ]
  },
  {
   "cell_type": "markdown",
   "metadata": {},
   "source": [
    "##### The above image represents the addition of noise with a Gaussian distribution to the original image."
   ]
  },
  {
   "cell_type": "markdown",
   "metadata": {},
   "source": [
    "Printing the max, min and avg intensities..."
   ]
  },
  {
   "cell_type": "code",
   "execution_count": 1223,
   "metadata": {},
   "outputs": [
    {
     "name": "stdout",
     "output_type": "stream",
     "text": [
      "Maximum intensity: 7.969599359541418\n",
      "Average intensity: 1.5046183691466388\n",
      "Minimum intensity: 0.004230667576002697\n"
     ]
    }
   ],
   "source": [
    "print(\"Maximum intensity:\",np.max(pixel_new))\n",
    "print(\"Average intensity:\",np.mean(pixel_new))\n",
    "print(\"Minimum intensity:\",np. min(pixel_new))"
   ]
  },
  {
   "cell_type": "markdown",
   "metadata": {},
   "source": [
    "Setting up the threshold to create a binary spectrogram..."
   ]
  },
  {
   "cell_type": "code",
   "execution_count": 1224,
   "metadata": {},
   "outputs": [],
   "source": [
    "th=np.max(pixel_gray)/2"
   ]
  },
  {
   "cell_type": "markdown",
   "metadata": {},
   "source": [
    "Now creating a binary matrix based on the threshold.."
   ]
  },
  {
   "cell_type": "code",
   "execution_count": 1225,
   "metadata": {},
   "outputs": [],
   "source": [
    "pixel_new_binary=np.zeros(shape=(20,20))\n",
    "for i in range(0,20):\n",
    "    for j in range(0,20):\n",
    "        if (pixel_new[i,j]>th):\n",
    "            pixel_new_binary[i,j]=1"
   ]
  },
  {
   "cell_type": "code",
   "execution_count": 1226,
   "metadata": {},
   "outputs": [],
   "source": [
    "noisy_binary_img= mpimg.imread(r\"\\Users\\Kaustav Dutta\\Desktop\\test.png\");\n",
    "for i in range(0,20):\n",
    "    for j in range(0,20):\n",
    "        if (pixel_new_binary[i,j]==0):\n",
    "            noisy_binary_img[i,j]=(0,0,0)"
   ]
  },
  {
   "cell_type": "code",
   "execution_count": 1227,
   "metadata": {},
   "outputs": [
    {
     "data": {
      "image/png": "[encoded data removed]",
      "text/plain": [
       "<Figure size 432x288 with 1 Axes>"
      ]
     },
     "metadata": {
      "needs_background": "light"
     },
     "output_type": "display_data"
    }
   ],
   "source": [
    "plt.imshow(noisy_binary_img,origin='lower')\n",
    "plt.show()"
   ]
  },
  {
   "cell_type": "markdown",
   "metadata": {},
   "source": [
    "##### This is what the binary image looks like after setting up the threshold. The Hough Transformation will work on this.."
   ]
  },
  {
   "cell_type": "markdown",
   "metadata": {},
   "source": [
    "Now, we'll go forward with the Hough Transform..."
   ]
  },
  {
   "cell_type": "code",
   "execution_count": 1228,
   "metadata": {},
   "outputs": [],
   "source": [
    "count_coord=25\n",
    "points_x=np.zeros(shape=(r_dim,theta_dim,count_coord),dtype='int')\n",
    "points_y=np.zeros(shape=(r_dim,theta_dim,count_coord),dtype='int')\n",
    "count=np.zeros(shape=(r_dim,theta_dim),dtype='int')"
   ]
  },
  {
   "cell_type": "code",
   "execution_count": 1229,
   "metadata": {},
   "outputs": [],
   "source": [
    "pixel_new_shape = pixel_new.shape\n",
    "\n",
    "x_max = pixel_new_shape[0]\n",
    "y_max = pixel_new_shape[1]\n",
    "\n",
    "theta_max = 1.0 * math.pi \n",
    "theta_min = 0.0\n",
    "\n",
    "r_min = 0.0\n",
    "r_max = math.hypot(x_max, y_max)\n",
    "\n",
    "r_dim = 200 \n",
    "theta_dim = 300\n",
    "\n",
    "hough_space = np.zeros((r_dim,theta_dim,))\n",
    "\n",
    "for x in range(x_max):\n",
    "    for y in range(y_max):\n",
    "        if pixel_new_binary[x,y] == 0: continue\n",
    "        for itheta in range(theta_dim):\n",
    "            theta =1.0 *itheta * theta_max / theta_dim\n",
    "            r = x * math.cos(theta) + y * math.sin(theta)\n",
    "            ir = int(r_dim * ( 1.0 * r ) / r_max)\n",
    "            \n",
    "            \n",
    "            points_x[ir,itheta,count[ir,itheta]]=x\n",
    "            points_y[ir,itheta,count[ir,itheta]]=y\n",
    "            \n",
    "            count[ir,itheta]=count[ir,itheta]+1\n",
    "            \n",
    "            hough_space[ir,itheta] = hough_space[ir,itheta] + 1"
   ]
  },
  {
   "cell_type": "code",
   "execution_count": 1230,
   "metadata": {},
   "outputs": [
    {
     "data": {
      "image/png": "[encoded data removed]",
      "text/plain": [
       "<Figure size 432x288 with 1 Axes>"
      ]
     },
     "metadata": {
      "needs_background": "light"
     },
     "output_type": "display_data"
    }
   ],
   "source": [
    "plt.imshow(hough_space,origin='lower')\n",
    "plt.xlim(0,theta_dim)\n",
    "plt.ylim(0,r_dim)\n",
    "plt.xlabel('Theta')\n",
    "plt.ylabel('r')\n",
    "plt.title('Hough Space')\n",
    "plt.show()"
   ]
  },
  {
   "cell_type": "markdown",
   "metadata": {},
   "source": [
    "Each point on the Hough plane corresponds to a line in the cartesian plane. Each curve in the Hough plane corresponds to a family of lines passing through a fixed point. If 2 curves intersect, it would mean that 2 points in the Cartesian plane are joined by a common line. More the count, more the number of points on a common line. "
   ]
  },
  {
   "cell_type": "markdown",
   "metadata": {},
   "source": [
    "Printing the max, min and avg counts of the Hough Space..."
   ]
  },
  {
   "cell_type": "code",
   "execution_count": 1231,
   "metadata": {},
   "outputs": [
    {
     "name": "stdout",
     "output_type": "stream",
     "text": [
      "Maximum count: 20.0\n",
      "Average count: 0.445\n",
      "Minimum count: 0.0\n"
     ]
    }
   ],
   "source": [
    "print(\"Maximum count:\",np.max(hough_space))\n",
    "print(\"Average count:\",np.mean(hough_space))\n",
    "print(\"Minimum count:\",np.min(hough_space))"
   ]
  },
  {
   "cell_type": "markdown",
   "metadata": {},
   "source": [
    "We can now set a threshold for the Hough plane, that is, what is the minimum number of signal pixels on a line to classify it as a track."
   ]
  },
  {
   "cell_type": "code",
   "execution_count": 1232,
   "metadata": {},
   "outputs": [],
   "source": [
    "th_hough=8"
   ]
  },
  {
   "cell_type": "code",
   "execution_count": 1233,
   "metadata": {},
   "outputs": [],
   "source": [
    "hough_space_binary_img= mpimg.imread(r\"\\Users\\Kaustav Dutta\\Desktop\\hough_binary.png\");\n",
    "hough_space_binary=np.zeros(shape=(r_dim,theta_dim))\n",
    "for i in range(hough_space.shape[0]):\n",
    "    for j in range(hough_space.shape[1]):\n",
    "        if hough_space[i,j]>th_hough:\n",
    "            hough_space_binary_img[i,j]=(1,1,1)\n",
    "            hough_space_binary[i,j]=1\n",
    "        else:\n",
    "            hough_space_binary_img[i,j]=(0,0,0)"
   ]
  },
  {
   "cell_type": "code",
   "execution_count": 1245,
   "metadata": {},
   "outputs": [
    {
     "data": {
      "image/png": "[encoded data removed]",
      "text/plain": [
       "<Figure size 432x288 with 1 Axes>"
      ]
     },
     "metadata": {
      "needs_background": "light"
     },
     "output_type": "display_data"
    }
   ],
   "source": [
    "plt.imshow(hough_space_binary_img,origin='lower')\n",
    "plt.title('Binary Hough Space')\n",
    "plt.xlabel('Theta')\n",
    "plt.ylabel('r')\n",
    "plt.show()"
   ]
  },
  {
   "cell_type": "markdown",
   "metadata": {},
   "source": [
    "The above image represents the binary spectrogram for the Hough plane. Only those points are visible where the number of curves intersecting is >= threshold."
   ]
  },
  {
   "cell_type": "markdown",
   "metadata": {},
   "source": [
    "#### Retro-Transformation from Hough plane to familiar pixel plane"
   ]
  },
  {
   "cell_type": "code",
   "execution_count": 1235,
   "metadata": {},
   "outputs": [],
   "source": [
    "reverse_hough = mpimg.imread(r\"\\Users\\Kaustav Dutta\\Desktop\\reverse_hough.png\")"
   ]
  },
  {
   "cell_type": "code",
   "execution_count": 1236,
   "metadata": {},
   "outputs": [],
   "source": [
    "for r in range(hough_space.shape[0]):\n",
    "    for theta in range(hough_space.shape[1]):\n",
    "        if(hough_space_binary[r,theta]==1):\n",
    "            for l in range(count[r,theta]):\n",
    "                reverse_hough[points_x[r,theta,l],points_y[r,theta,l]]=(1,1,1)"
   ]
  },
  {
   "cell_type": "code",
   "execution_count": 1237,
   "metadata": {},
   "outputs": [
    {
     "data": {
      "image/png": "[encoded data removed]",
      "text/plain": [
       "<Figure size 432x288 with 1 Axes>"
      ]
     },
     "metadata": {
      "needs_background": "light"
     },
     "output_type": "display_data"
    }
   ],
   "source": [
    "plt.imshow(reverse_hough,origin='lower')\n",
    "plt.title('Reverse Hough Spectrogram')\n",
    "plt.show()"
   ]
  },
  {
   "cell_type": "markdown",
   "metadata": {},
   "source": [
    "These are the pixels which the Hough Algorithm recognises as track pixels."
   ]
  },
  {
   "cell_type": "code",
   "execution_count": 1238,
   "metadata": {},
   "outputs": [
    {
     "data": {
      "image/png": "[encoded data removed]",
      "text/plain": [
       "<Figure size 792x792 with 3 Axes>"
      ]
     },
     "metadata": {
      "needs_background": "light"
     },
     "output_type": "display_data"
    }
   ],
   "source": [
    "plt.figure(figsize=(11,11))\n",
    "plt.subplot(131), plt.imshow(binary_gray,origin='lower'),plt.title('True Binary Spectrogram')\n",
    "plt.subplot(132), plt.imshow(noisy_binary_img,origin='lower'),plt.title('Binary spectrogram with Gaussian Noise')\n",
    "plt.subplot(133), plt.imshow(reverse_hough,origin='lower'),plt.title('Reverse Hough Spectrogram')\n",
    "plt.show()"
   ]
  },
  {
   "cell_type": "markdown",
   "metadata": {},
   "source": [
    "#### Accuracy of the Hough Transformation"
   ]
  },
  {
   "cell_type": "code",
   "execution_count": 1239,
   "metadata": {},
   "outputs": [],
   "source": [
    "y_true=np.zeros(shape=(20,20))"
   ]
  },
  {
   "cell_type": "code",
   "execution_count": 1240,
   "metadata": {},
   "outputs": [],
   "source": [
    "for i in range(0,20):\n",
    "    for j in range(0,20):\n",
    "        if(pixel_gray[i,j]>=(np.max(pixel_gray))/4):\n",
    "            y_true[i,j]=1\n",
    "y_true=y_true.flatten()"
   ]
  },
  {
   "cell_type": "code",
   "execution_count": 1241,
   "metadata": {},
   "outputs": [],
   "source": [
    "accuracy=np.zeros(25)"
   ]
  },
  {
   "cell_type": "code",
   "execution_count": 1242,
   "metadata": {},
   "outputs": [],
   "source": [
    "for thresh in range(0,25):\n",
    "    y_pred=np.zeros(shape=(20,20))\n",
    "    hough_space_binary=np.zeros(shape=(r_dim,theta_dim))\n",
    "    for i in range(hough_space.shape[0]):\n",
    "        for j in range(hough_space.shape[1]):\n",
    "            if (hough_space[i,j]>=thresh):\n",
    "                hough_space_binary[i,j]=1\n",
    "                \n",
    "    for r in range(hough_space.shape[0]):\n",
    "        for theta in range(hough_space.shape[1]):\n",
    "            if(hough_space_binary[r,theta]==1):\n",
    "                for l in range(count[r,theta]):\n",
    "                    y_pred[points_x[r,theta,l],points_y[r,theta,l]]=1\n",
    "                    \n",
    "    y_pred=y_pred.flatten()\n",
    "    accuracy[thresh]=metrics.accuracy_score(y_true, y_pred)"
   ]
  },
  {
   "cell_type": "code",
   "execution_count": 1243,
   "metadata": {},
   "outputs": [
    {
     "data": {
      "text/plain": [
       "array([0.9025, 0.9025, 0.9025, 0.9025, 0.9025, 0.9025, 0.91  , 0.9225,\n",
       "       0.925 , 0.91  , 0.91  , 0.91  , 0.91  , 0.91  , 0.91  , 0.91  ,\n",
       "       0.91  , 0.91  , 0.91  , 0.91  , 0.815 , 0.765 , 0.765 , 0.765 ,\n",
       "       0.765 ])"
      ]
     },
     "execution_count": 1243,
     "metadata": {},
     "output_type": "execute_result"
    }
   ],
   "source": [
    "accuracy"
   ]
  },
  {
   "cell_type": "code",
   "execution_count": 1244,
   "metadata": {},
   "outputs": [
    {
     "data": {
      "image/png": "[encoded data removed]",
      "text/plain": [
       "<Figure size 432x288 with 1 Axes>"
      ]
     },
     "metadata": {
      "needs_background": "light"
     },
     "output_type": "display_data"
    }
   ],
   "source": [
    "thresh=[1,2,3,4,5,6,7,8,9,10,11,12,13,14,15,16,17,18,19,20,21,22,23,24,25]\n",
    "plt.plot(thresh,accuracy)\n",
    "plt.ylabel('Accuracy')\n",
    "plt.xlabel('Threshold')\n",
    "plt.title('Accuracy Plot')\n",
    "plt.show()"
   ]
  }
 ],
 "metadata": {
  "kernelspec": {
   "display_name": "Python 3",
   "language": "python",
   "name": "python3"
  },
  "language_info": {
   "codemirror_mode": {
    "name": "ipython",
    "version": 3
   },
   "file_extension": ".py",
   "mimetype": "text/x-python",
   "name": "python",
   "nbconvert_exporter": "python",
   "pygments_lexer": "ipython3",
   "version": "3.7.4"
  }
 },
 "nbformat": 4,
 "nbformat_minor": 2
}
