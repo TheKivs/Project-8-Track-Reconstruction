{
 "cells": [
  {
   "cell_type": "markdown",
   "metadata": {},
   "source": [
    "## Hough / Retro-Hough Transformation"
   ]
  },
  {
   "cell_type": "code",
   "execution_count": 200,
   "metadata": {},
   "outputs": [],
   "source": [
    "import numpy as np\n",
    "import matplotlib.pyplot as plt\n",
    "import matplotlib.image as mpimg\n",
    "import pandas\n",
    "import math\n",
    "import random\n",
    "import cv2\n",
    "import scipy.ndimage.filters as filters\n",
    "import scipy.ndimage as ndimage\n",
    "from scipy import stats "
   ]
  },
  {
   "cell_type": "code",
   "execution_count": 542,
   "metadata": {},
   "outputs": [
    {
     "data": {
      "image/png": "[encoded data removed]",
      "text/plain": [
       "<Figure size 432x288 with 1 Axes>"
      ]
     },
     "metadata": {
      "needs_background": "light"
     },
     "output_type": "display_data"
    }
   ],
   "source": [
    "pixel = mpimg.imread(r\"\\Users\\Kaustav Dutta\\Desktop\\test.png\");\n",
    "plt.imshow(pixel)\n",
    "plt.show()"
   ]
  },
  {
   "cell_type": "markdown",
   "metadata": {},
   "source": [
    "This would be the empty template (20 pixels in height, 20 pixels wide) on which we can form our images!"
   ]
  },
  {
   "cell_type": "code",
   "execution_count": 679,
   "metadata": {},
   "outputs": [],
   "source": [
    "sqrt=math.sqrt\n",
    "pi=math.pi\n",
    "alpha=0.785398\n",
    "sigma=1\n",
    "ybar=10\n",
    "xbar=10\n",
    "exp=math.exp\n",
    "cos=math.cos\n",
    "sin=math.sin\n",
    "I0=2 #This can be set to be the SNR\n",
    "SNR=I0"
   ]
  },
  {
   "cell_type": "markdown",
   "metadata": {},
   "source": [
    "First we would consider the actual track without any noise and then proceed on to introducing noise later on..."
   ]
  },
  {
   "cell_type": "code",
   "execution_count": 680,
   "metadata": {},
   "outputs": [],
   "source": [
    "for i in range(0,20):\n",
    "    for j in range(0,20):\n",
    "        intensity=I0*exp(-((((j-ybar))*cos(alpha))-(((i-xbar))*sin(alpha)))**2/(2*(sigma)**2))\n",
    "        pixel[i,j]=(intensity,intensity,0)"
   ]
  },
  {
   "cell_type": "code",
   "execution_count": 681,
   "metadata": {},
   "outputs": [
    {
     "name": "stderr",
     "output_type": "stream",
     "text": [
      "Clipping input data to the valid range for imshow with RGB data ([0..1] for floats or [0..255] for integers).\n"
     ]
    },
    {
     "data": {
      "image/png": "[encoded data removed]",
      "text/plain": [
       "<Figure size 432x288 with 1 Axes>"
      ]
     },
     "metadata": {
      "needs_background": "light"
     },
     "output_type": "display_data"
    }
   ],
   "source": [
    "plt.imshow(pixel,origin='lower')\n",
    "plt.show()"
   ]
  },
  {
   "cell_type": "markdown",
   "metadata": {},
   "source": [
    "This represents the Gaussian power intensity profile of the track. No threshold has been set here. "
   ]
  },
  {
   "cell_type": "code",
   "execution_count": 682,
   "metadata": {},
   "outputs": [
    {
     "data": {
      "text/plain": [
       "2.0"
      ]
     },
     "execution_count": 682,
     "metadata": {},
     "output_type": "execute_result"
    }
   ],
   "source": [
    "np.max(pixel)"
   ]
  },
  {
   "cell_type": "code",
   "execution_count": 677,
   "metadata": {},
   "outputs": [
    {
     "data": {
      "image/png": "[encoded data removed]",
      "text/plain": [
       "<Figure size 432x288 with 1 Axes>"
      ]
     },
     "metadata": {
      "needs_background": "light"
     },
     "output_type": "display_data"
    }
   ],
   "source": [
    " #Convert color image to grayscale to help extraction of edges\n",
    "\n",
    "pixel_gray=np.dot(pixel, [1,1,1])\n",
    "plt.imshow(pixel_gray ,cmap = plt.get_cmap('gray'),origin='lower');"
   ]
  },
  {
   "cell_type": "markdown",
   "metadata": {},
   "source": [
    "The image has been converted to Grayscale so that we dont have to deal with 3 labels (R,G,B) for each pixel."
   ]
  },
  {
   "cell_type": "code",
   "execution_count": 678,
   "metadata": {},
   "outputs": [
    {
     "data": {
      "text/plain": [
       "4.0"
      ]
     },
     "execution_count": 678,
     "metadata": {},
     "output_type": "execute_result"
    }
   ],
   "source": [
    "np.max(pixel_gray)"
   ]
  },
  {
   "cell_type": "code",
   "execution_count": 691,
   "metadata": {},
   "outputs": [],
   "source": [
    "binary_gray= mpimg.imread(r\"\\Users\\Kaustav Dutta\\Desktop\\test.png\");\n",
    "for i in range(0,20):\n",
    "    for j in range(0,20):\n",
    "        if(pixel_gray[i,j]>=(np.max(pixel_gray))/4):\n",
    "            binary_gray[i,j]=(1,1,1)\n",
    "        else:\n",
    "            binary_gray[i,j]=(0,0,0)"
   ]
  },
  {
   "cell_type": "code",
   "execution_count": 736,
   "metadata": {},
   "outputs": [
    {
     "data": {
      "image/png": "[encoded data removed]",
      "text/plain": [
       "<Figure size 432x288 with 1 Axes>"
      ]
     },
     "metadata": {
      "needs_background": "light"
     },
     "output_type": "display_data"
    }
   ],
   "source": [
    "plt.imshow(binary_gray,origin='lower')\n",
    "plt.show()"
   ]
  },
  {
   "cell_type": "markdown",
   "metadata": {},
   "source": [
    "The above image is the Binary Spectrogram for the track, taking threshold as I0/4. Pixels having intensities above I0/4 are marked as 1 and others have been marked as 0. This should be close to 3 SDs from the mean."
   ]
  },
  {
   "cell_type": "markdown",
   "metadata": {},
   "source": [
    "Now introducing Gaussian noise to every pixel.."
   ]
  },
  {
   "cell_type": "code",
   "execution_count": 737,
   "metadata": {},
   "outputs": [],
   "source": [
    "for i in range(0,20):\n",
    "    for j in range(0,20):\n",
    "        noise=np.random.normal(0,1)\n",
    "        pixel_new[i,j]=abs((sqrt(SNR)*pixel_gray[i,j])+noise)"
   ]
  },
  {
   "cell_type": "code",
   "execution_count": 745,
   "metadata": {},
   "outputs": [
    {
     "data": {
      "image/png": "[encoded data removed]",
      "text/plain": [
       "<Figure size 432x288 with 1 Axes>"
      ]
     },
     "metadata": {
      "needs_background": "light"
     },
     "output_type": "display_data"
    }
   ],
   "source": [
    "plt.imshow(pixel_new,origin='lower')\n",
    "plt.show()"
   ]
  },
  {
   "cell_type": "markdown",
   "metadata": {},
   "source": [
    "##### The above image represents the addition of noise with a Gaussian distribution to the original image."
   ]
  },
  {
   "cell_type": "markdown",
   "metadata": {},
   "source": [
    "Printing the max, min and avg intensities..."
   ]
  },
  {
   "cell_type": "code",
   "execution_count": 746,
   "metadata": {},
   "outputs": [
    {
     "name": "stdout",
     "output_type": "stream",
     "text": [
      "Maximum intensity: 7.524507020568104\n",
      "Average intensity: 1.4848386494015418\n",
      "Minimum intensity: 0.0070160109624576306\n"
     ]
    }
   ],
   "source": [
    "print(\"Maximum intensity:\",np.max(pixel_new))\n",
    "print(\"Average intensity:\",np.mean(pixel_new))\n",
    "print(\"Minimum intensity:\",np. min(pixel_new))"
   ]
  },
  {
   "cell_type": "markdown",
   "metadata": {},
   "source": [
    "Setting up the threshold to create a binary spectrogram..."
   ]
  },
  {
   "cell_type": "code",
   "execution_count": 747,
   "metadata": {},
   "outputs": [],
   "source": [
    "th=np.max(pixel_gray)/4"
   ]
  },
  {
   "cell_type": "markdown",
   "metadata": {},
   "source": [
    "Now creating a binary matrix based on the threshold.."
   ]
  },
  {
   "cell_type": "code",
   "execution_count": 748,
   "metadata": {},
   "outputs": [],
   "source": [
    "pixel_new_binary=np.zeros(shape=(20,20))\n",
    "for i in range(0,20):\n",
    "    for j in range(0,20):\n",
    "        if (pixel_new[i,j]>th):\n",
    "            pixel_new_binary[i,j]=1"
   ]
  },
  {
   "cell_type": "code",
   "execution_count": 749,
   "metadata": {},
   "outputs": [],
   "source": [
    "noisy_binary_img= mpimg.imread(r\"\\Users\\Kaustav Dutta\\Desktop\\test.png\");\n",
    "for i in range(0,20):\n",
    "    for j in range(0,20):\n",
    "        if (pixel_new_binary[i,j]==0):\n",
    "            noisy_binary_img[i,j]=(0,0,0)"
   ]
  },
  {
   "cell_type": "code",
   "execution_count": 750,
   "metadata": {},
   "outputs": [
    {
     "data": {
      "image/png": "[encoded data removed]",
      "text/plain": [
       "<Figure size 432x288 with 1 Axes>"
      ]
     },
     "metadata": {
      "needs_background": "light"
     },
     "output_type": "display_data"
    }
   ],
   "source": [
    "plt.imshow(noisy_binary_img,origin='lower')\n",
    "plt.show()"
   ]
  },
  {
   "cell_type": "markdown",
   "metadata": {},
   "source": [
    "##### This is what the binary image looks like after setting up the threshold. The Hough Transformation will work on this.."
   ]
  },
  {
   "cell_type": "markdown",
   "metadata": {},
   "source": [
    "Now, we'll go forward with the Hough Transform..."
   ]
  },
  {
   "cell_type": "code",
   "execution_count": 751,
   "metadata": {},
   "outputs": [],
   "source": [
    "count_coord=25\n",
    "points_x=np.zeros(shape=(r_dim,theta_dim,count_coord),dtype='int')\n",
    "points_y=np.zeros(shape=(r_dim,theta_dim,count_coord),dtype='int')\n",
    "count=np.zeros(shape=(r_dim,theta_dim),dtype='int')"
   ]
  },
  {
   "cell_type": "code",
   "execution_count": 752,
   "metadata": {},
   "outputs": [],
   "source": [
    "pixel_new_shape = pixel_new.shape\n",
    "\n",
    "x_max = pixel_new_shape[0]\n",
    "y_max = pixel_new_shape[1]\n",
    "\n",
    "theta_max = 1.0 * math.pi \n",
    "theta_min = 0.0\n",
    "\n",
    "r_min = 0.0\n",
    "r_max = math.hypot(x_max, y_max)\n",
    "\n",
    "r_dim = 200 \n",
    "theta_dim = 300\n",
    "\n",
    "hough_space = np.zeros((r_dim,theta_dim,))\n",
    "\n",
    "for x in range(x_max):\n",
    "    for y in range(y_max):\n",
    "        if pixel_new_binary[x,y] == 0: continue\n",
    "        for itheta in range(theta_dim):\n",
    "            theta =1.0 *itheta * theta_max / theta_dim\n",
    "            r = x * math.cos(theta) + y * math.sin(theta)\n",
    "            ir = int(r_dim * ( 1.0 * r ) / r_max)\n",
    "            \n",
    "            \n",
    "            points_x[ir,itheta,count[ir,itheta]]=x\n",
    "            points_y[ir,itheta,count[ir,itheta]]=y\n",
    "            \n",
    "            count[ir,itheta]=count[ir,itheta]+1\n",
    "            \n",
    "            hough_space[ir,itheta] = hough_space[ir,itheta] + 1"
   ]
  },
  {
   "cell_type": "code",
   "execution_count": 753,
   "metadata": {},
   "outputs": [
    {
     "data": {
      "image/png": "[encoded data removed]",
      "text/plain": [
       "<Figure size 432x288 with 1 Axes>"
      ]
     },
     "metadata": {
      "needs_background": "light"
     },
     "output_type": "display_data"
    }
   ],
   "source": [
    "plt.imshow(hough_space,origin='lower')\n",
    "plt.xlim(0,theta_dim)\n",
    "plt.ylim(0,r_dim)\n",
    "plt.xlabel('Theta')\n",
    "plt.ylabel('r')\n",
    "plt.title('Hough Space')\n",
    "plt.show()"
   ]
  },
  {
   "cell_type": "markdown",
   "metadata": {},
   "source": [
    "Each point on the Hough plane corresponds to a line in the cartesian plane. Each curve in the Hough plane corresponds to a family of lines passing through a fixed point. If 2 curves intersect, it would mean that 2 points in the Cartesian plane are joined by a common line. More the count, more the number of points on a common line. "
   ]
  },
  {
   "cell_type": "code",
   "execution_count": 754,
   "metadata": {},
   "outputs": [
    {
     "data": {
      "text/plain": [
       "(200, 300)"
      ]
     },
     "execution_count": 754,
     "metadata": {},
     "output_type": "execute_result"
    }
   ],
   "source": [
    "hough_space.shape"
   ]
  },
  {
   "cell_type": "markdown",
   "metadata": {},
   "source": [
    "Printing the max, min and avg counts of the Hough Space..."
   ]
  },
  {
   "cell_type": "code",
   "execution_count": 755,
   "metadata": {},
   "outputs": [
    {
     "name": "stdout",
     "output_type": "stream",
     "text": [
      "Maximum count: 20.0\n",
      "Average count: 0.895\n",
      "Minimum count: 0.0\n"
     ]
    }
   ],
   "source": [
    "print(\"Maximum count:\",np.max(hough_space))\n",
    "print(\"Average count:\",np.mean(hough_space))\n",
    "print(\"Minimum count:\",np.min(hough_space))"
   ]
  },
  {
   "cell_type": "markdown",
   "metadata": {},
   "source": [
    "We can now set a threshold for the Hough plane, that is, what is the minimum number of signal pixels on a line to classify it as a track."
   ]
  },
  {
   "cell_type": "code",
   "execution_count": 795,
   "metadata": {},
   "outputs": [],
   "source": [
    "th_hough=13.5"
   ]
  },
  {
   "cell_type": "code",
   "execution_count": 796,
   "metadata": {},
   "outputs": [],
   "source": [
    "hough_space_binary_img= mpimg.imread(r\"\\Users\\Kaustav Dutta\\Desktop\\hough_binary.png\");\n",
    "hough_space_binary=np.zeros(shape=(r_dim,theta_dim))\n",
    "for i in range(hough_space.shape[0]):\n",
    "    for j in range(hough_space.shape[1]):\n",
    "        if hough_space[i,j]>th_hough:\n",
    "            hough_space_binary_img[i,j]=(1,1,1)\n",
    "            hough_space_binary[i,j]=1\n",
    "        else:\n",
    "            hough_space_binary_img[i,j]=(0,0,0)"
   ]
  },
  {
   "cell_type": "code",
   "execution_count": 797,
   "metadata": {},
   "outputs": [
    {
     "data": {
      "image/png": "[encoded data removed]",
      "text/plain": [
       "<Figure size 432x288 with 1 Axes>"
      ]
     },
     "metadata": {
      "needs_background": "light"
     },
     "output_type": "display_data"
    }
   ],
   "source": [
    "plt.imshow(hough_space_binary,origin='lower')\n",
    "plt.show()"
   ]
  },
  {
   "cell_type": "markdown",
   "metadata": {},
   "source": [
    "The above image represents the binary spectrogram for the Hough plane. Only those points are visible where the number of curves intersecting is >= threshold."
   ]
  },
  {
   "cell_type": "markdown",
   "metadata": {},
   "source": [
    "#### Retro-Transformation from Hough plane to familiar pixel plane"
   ]
  },
  {
   "cell_type": "code",
   "execution_count": 798,
   "metadata": {},
   "outputs": [],
   "source": [
    "reverse_hough = mpimg.imread(r\"\\Users\\Kaustav Dutta\\Desktop\\reverse_hough.png\")"
   ]
  },
  {
   "cell_type": "code",
   "execution_count": 799,
   "metadata": {},
   "outputs": [],
   "source": [
    "for r in range(hough_space.shape[0]):\n",
    "    for theta in range(hough_space.shape[1]):\n",
    "        if(hough_space_binary[r,theta]==1):\n",
    "            for l in range(count[r,theta]):\n",
    "                reverse_hough[points_x[r,theta,l],points_y[r,theta,l]]=(1,1,1)"
   ]
  },
  {
   "cell_type": "code",
   "execution_count": 800,
   "metadata": {},
   "outputs": [
    {
     "data": {
      "image/png": "[encoded data removed]",
      "text/plain": [
       "<Figure size 432x288 with 1 Axes>"
      ]
     },
     "metadata": {
      "needs_background": "light"
     },
     "output_type": "display_data"
    }
   ],
   "source": [
    "plt.imshow(reverse_hough,origin='lower')\n",
    "plt.title('Reverse Hough Spectrogram')\n",
    "plt.show()"
   ]
  },
  {
   "cell_type": "markdown",
   "metadata": {},
   "source": [
    "These are the pixels which the Hough Algorithm recognises as track pixels."
   ]
  },
  {
   "cell_type": "code",
   "execution_count": 801,
   "metadata": {},
   "outputs": [
    {
     "data": {
      "image/png": "[encoded data removed]",
      "text/plain": [
       "<Figure size 792x792 with 3 Axes>"
      ]
     },
     "metadata": {
      "needs_background": "light"
     },
     "output_type": "display_data"
    }
   ],
   "source": [
    "plt.figure(figsize=(11,11))\n",
    "plt.subplot(131), plt.imshow(binary_gray,origin='lower'),plt.title('True Binary Spectrogram')\n",
    "plt.subplot(132), plt.imshow(noisy_binary_img,origin='lower'),plt.title('Binary spectrogram with Gaussian Noise')\n",
    "plt.subplot(133), plt.imshow(reverse_hough,origin='lower'),plt.title('Reverse Hough Spectrogram')\n",
    "plt.show()"
   ]
  }
 ],
 "metadata": {
  "kernelspec": {
   "display_name": "Python 3",
   "language": "python",
   "name": "python3"
  },
  "language_info": {
   "codemirror_mode": {
    "name": "ipython",
    "version": 3
   },
   "file_extension": ".py",
   "mimetype": "text/x-python",
   "name": "python",
   "nbconvert_exporter": "python",
   "pygments_lexer": "ipython3",
   "version": "3.7.4"
  }
 },
 "nbformat": 4,
 "nbformat_minor": 2
}
