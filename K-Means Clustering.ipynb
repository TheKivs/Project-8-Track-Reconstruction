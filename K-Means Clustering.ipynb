{
 "cells": [
  {
   "cell_type": "markdown",
   "metadata": {},
   "source": [
    "K-Means Clustering is the process of dividing the datasets into groups, consisting of similar data points. Points in the same group are as similar as possible. This also implies that points in different groups are as dissimilar as possible."
   ]
  },
  {
   "cell_type": "code",
   "execution_count": 1,
   "metadata": {},
   "outputs": [],
   "source": [
    "#Initialisation\n",
    "\n",
    "import pandas as pd\n",
    "import numpy as np\n",
    "import matplotlib.pyplot as plt\n",
    "%matplotlib inline"
   ]
  },
  {
   "cell_type": "code",
   "execution_count": 4,
   "metadata": {},
   "outputs": [],
   "source": [
    "df=pd.DataFrame({\n",
    "    'x':[12,20,28,18,29,33,24,45,45,52,51,52,55,53,55,61,64,69,72],\n",
    "    'y':[39,36,30,52,54,46,55,59,63,70,66,63,58,23,14,8,19,7,24]\n",
    "})"
   ]
  },
  {
   "cell_type": "markdown",
   "metadata": {},
   "source": [
    "This is a very common dataset for classification problems and can be downloaded from Kaggle."
   ]
  },
  {
   "cell_type": "code",
   "execution_count": 5,
   "metadata": {},
   "outputs": [
    {
     "data": {
      "image/png": "[encoded data removed]",
      "text/plain": [
       "<Figure size 360x360 with 1 Axes>"
      ]
     },
     "metadata": {
      "needs_background": "light"
     },
     "output_type": "display_data"
    }
   ],
   "source": [
    "np.random.seed(200)\n",
    "k=3\n",
    "#centroids[i]=[x,y]\n",
    "centroids={\n",
    "    i+1:[np.random.randint(0,80),np.random.randint(0,80)]\n",
    "    for i in range(k)\n",
    "}\n",
    "fig=plt.figure(figsize=(5,5))\n",
    "plt.scatter(df['x'],df['y'],color='k')\n",
    "colmap={1:'r',2:'g',3:'b'}\n",
    "for i in centroids.keys():\n",
    "    plt.scatter(*centroids[i],color=colmap[i])\n",
    "plt.xlim(0,80)\n",
    "plt.ylim(0,80)\n",
    "plt.show()"
   ]
  },
  {
   "cell_type": "markdown",
   "metadata": {},
   "source": [
    "The Red, Green and Blue datapoints are the 3 initial random datapoints selected as centroids."
   ]
  },
  {
   "cell_type": "code",
   "execution_count": 9,
   "metadata": {},
   "outputs": [
    {
     "name": "stdout",
     "output_type": "stream",
     "text": [
      "    x   y  distane_from_1  distane_from_2  distane_from_3  distance_from_1  \\\n",
      "0  12  39       26.925824       56.080300       56.727418        26.925824   \n",
      "1  20  36       20.880613       48.373546       53.150729        20.880613   \n",
      "2  28  30       14.142136       41.761226       53.338541        14.142136   \n",
      "3  18  52       36.878178       50.990195       44.102154        36.878178   \n",
      "4  29  54       38.118237       40.804412       34.058773        38.118237   \n",
      "\n",
      "   distance_from_2  distance_from_3  closest color  \n",
      "0        56.080300        56.727418        1     r  \n",
      "1        48.373546        53.150729        1     r  \n",
      "2        41.761226        53.338541        1     r  \n",
      "3        50.990195        44.102154        1     r  \n",
      "4        40.804412        34.058773        3     b  \n"
     ]
    }
   ],
   "source": [
    "##Assignment Stage\n",
    "\n",
    "def assignment(df,centroids):\n",
    "    for i in centroids.keys():\n",
    "        #sqrt((x1-x2)^2-(y1-y2)^2)\n",
    "        df['distance_from_{}'.format(i)]=(\n",
    "            np.sqrt(\n",
    "                 (df['x']-centroids[i][0])**2\n",
    "                 + (df['y']-centroids[i][1])**2\n",
    "            )\n",
    "        )\n",
    "    centroid_distance_cols=['distance_from_{}'.format(i) for i in centroids.keys()]\n",
    "    df['closest']=df.loc[:,centroid_distance_cols].idxmin(axis=1)\n",
    "    df['closest']=df['closest'].map(lambda x: int(x.lstrip('distance_from_')))\n",
    "    df['color']=df['closest'].map(lambda x: colmap[x])\n",
    "    return df\n",
    "\n",
    "df=assignment(df,centroids)\n",
    "print(df.head())"
   ]
  },
  {
   "cell_type": "markdown",
   "metadata": {},
   "source": [
    "The above procedure is simply to compute the distances of the points in our dataset from the 3 centroids. The points will belong to the cluster it is least away from."
   ]
  },
  {
   "cell_type": "code",
   "execution_count": 10,
   "metadata": {},
   "outputs": [
    {
     "data": {
      "image/png": "[encoded data removed]",
      "text/plain": [
       "<Figure size 360x360 with 1 Axes>"
      ]
     },
     "metadata": {
      "needs_background": "light"
     },
     "output_type": "display_data"
    }
   ],
   "source": [
    "fig=plt.figure(figsize=(5,5))\n",
    "plt.scatter(df['x'],df['y'],color=df['color'],alpha=0.5,edgecolor='k')\n",
    "for i in centroids.keys():\n",
    "    plt.scatter(*centroids[i],color=colmap[i])\n",
    "plt.xlim(0,80)\n",
    "plt.ylim(0,80)\n",
    "plt.show()"
   ]
  },
  {
   "cell_type": "code",
   "execution_count": 16,
   "metadata": {},
   "outputs": [],
   "source": [
    "##Update Stage\n",
    "\n",
    "import copy\n",
    "\n",
    "old_centroids=copy.deepcopy(centroids)\n",
    "\n",
    "def update(k):\n",
    "    for i in centroids.keys():\n",
    "        centroids[i][0]=np.mean(df[df['closest']==i]['x'])\n",
    "        centroids[i][1]=np.mean(df[df['closest']==i]['y'])\n",
    "    return k\n",
    "centroids=update(centroids)"
   ]
  },
  {
   "cell_type": "code",
   "execution_count": 17,
   "metadata": {},
   "outputs": [
    {
     "data": {
      "text/plain": [
       "<matplotlib.collections.PathCollection at 0x22aa96827c8>"
      ]
     },
     "execution_count": 17,
     "metadata": {},
     "output_type": "execute_result"
    },
    {
     "data": {
      "image/png": "[encoded data removed]",
      "text/plain": [
       "<Figure size 360x360 with 1 Axes>"
      ]
     },
     "metadata": {
      "needs_background": "light"
     },
     "output_type": "display_data"
    }
   ],
   "source": [
    "fig=plt.figure(figsize=(5,5))\n",
    "ax=plt.axes()\n",
    "plt.scatter(df['x'],df['y'],color=df['color'],alpha=0.5,edgecolor='k')"
   ]
  },
  {
   "cell_type": "code",
   "execution_count": 19,
   "metadata": {},
   "outputs": [
    {
     "data": {
      "image/png": "[encoded data removed]",
      "text/plain": [
       "<Figure size 432x288 with 1 Axes>"
      ]
     },
     "metadata": {
      "needs_background": "light"
     },
     "output_type": "display_data"
    }
   ],
   "source": [
    "for i in centroids.keys():\n",
    "    plt.scatter(*centroids[i],color=colmap[i])\n",
    "plt.xlim(0,80)\n",
    "plt.ylim(0,80)\n",
    "for i in old_centroids.keys():\n",
    "    old_x=old_centroids[i][0]\n",
    "    old_y=old_centroids[i][1]\n",
    "    dx=(centroids[i][0]-old_centroids[i][0])*0.75\n",
    "    dy=(centroids[i][1]-old_centroids[i][1])*0.75\n",
    "    ax.arrow(old_x,old_y,dx,dy,head_width=2,head_length=3,fc=colmap[i],ec=colmap[i])\n",
    "plt.show()"
   ]
  },
  {
   "cell_type": "code",
   "execution_count": 20,
   "metadata": {},
   "outputs": [
    {
     "data": {
      "image/png": "[encoded data removed]",
      "text/plain": [
       "<Figure size 360x360 with 1 Axes>"
      ]
     },
     "metadata": {
      "needs_background": "light"
     },
     "output_type": "display_data"
    }
   ],
   "source": [
    "##Repeat Assignment Stage\n",
    "\n",
    "df=assignment(df,centroids)\n",
    "\n",
    "#Plot results\n",
    "fig=plt.figure(figsize=(5,5))\n",
    "plt.scatter(df['x'],df['y'],color=df['color'],alpha=0.5,edgecolor='k')\n",
    "for i in centroids.keys():\n",
    "    plt.scatter(*centroids[i],color=colmap[i])\n",
    "plt.xlim(0,80)\n",
    "plt.ylim(0,80)\n",
    "plt.show()"
   ]
  },
  {
   "cell_type": "code",
   "execution_count": 21,
   "metadata": {},
   "outputs": [
    {
     "data": {
      "image/png": "[encoded data removed]",
      "text/plain": [
       "<Figure size 360x360 with 1 Axes>"
      ]
     },
     "metadata": {
      "needs_background": "light"
     },
     "output_type": "display_data"
    }
   ],
   "source": [
    "#Continue until all assigned categories don't change anymore\n",
    "\n",
    "while True:\n",
    "    closest_centroids=df['closest'].copy(deep=True)\n",
    "    centroids=update(centroids)\n",
    "    df=assignment(df,centroids)\n",
    "    if closest_centroids.equals(df['closest']):\n",
    "        break\n",
    "\n",
    "#Plot results\n",
    "fig=plt.figure(figsize=(5,5))\n",
    "plt.scatter(df['x'],df['y'],color=df['color'],alpha=0.5,edgecolor='k')\n",
    "for i in centroids.keys():\n",
    "    plt.scatter(*centroids[i],color=colmap[i])\n",
    "plt.xlim(0,80)\n",
    "plt.ylim(0,80)\n",
    "plt.show()"
   ]
  },
  {
   "cell_type": "markdown",
   "metadata": {},
   "source": [
    "The iterations will repeat again and again until the datapoints dont change color (i.e. they dont change their cluster)."
   ]
  },
  {
   "cell_type": "code",
   "execution_count": 23,
   "metadata": {},
   "outputs": [
    {
     "data": {
      "text/plain": [
       "KMeans(algorithm='auto', copy_x=True, init='k-means++', max_iter=300,\n",
       "       n_clusters=3, n_init=10, n_jobs=None, precompute_distances='auto',\n",
       "       random_state=None, tol=0.0001, verbose=0)"
      ]
     },
     "execution_count": 23,
     "metadata": {},
     "output_type": "execute_result"
    }
   ],
   "source": [
    "df=pd.DataFrame({\n",
    "    'x':[12,20,28,18,29,33,24,45,45,52,51,52,55,53,55,61,64,69,72],\n",
    "    'y':[39,36,30,52,54,46,55,59,63,70,66,63,58,23,14,8,19,7,24]\n",
    "})\n",
    "\n",
    "from sklearn.cluster import KMeans\n",
    "\n",
    "kmeans=KMeans(n_clusters=3)\n",
    "kmeans.fit(df)"
   ]
  },
  {
   "cell_type": "code",
   "execution_count": 24,
   "metadata": {},
   "outputs": [],
   "source": [
    "labels=kmeans.predict(df)\n",
    "centroids=kmeans.cluster_centers_"
   ]
  },
  {
   "cell_type": "code",
   "execution_count": 26,
   "metadata": {},
   "outputs": [
    {
     "data": {
      "image/png": "[encoded data removed]",
      "text/plain": [
       "<Figure size 360x360 with 1 Axes>"
      ]
     },
     "metadata": {
      "needs_background": "light"
     },
     "output_type": "display_data"
    }
   ],
   "source": [
    "fig=plt.figure(figsize=(5,5))\n",
    "\n",
    "colors=map(lambda x: colmap[x+1],labels)\n",
    "colors1=list(colors)\n",
    "plt.scatter(df['x'],df['y'],color=colors1,alpha=0.5,edgecolor='k')\n",
    "for idx, centroid in enumerate(centroids):\n",
    "    plt.scatter(*centroid,color=colmap[idx+1])\n",
    "plt.xlim(0,80)\n",
    "plt.ylim(0,80)\n",
    "plt.show()"
   ]
  },
  {
   "cell_type": "markdown",
   "metadata": {},
   "source": [
    "Comparing with other plots, we see that the colors are in different order!"
   ]
  }
 ],
 "metadata": {
  "kernelspec": {
   "display_name": "Python 3",
   "language": "python",
   "name": "python3"
  },
  "language_info": {
   "codemirror_mode": {
    "name": "ipython",
    "version": 3
   },
   "file_extension": ".py",
   "mimetype": "text/x-python",
   "name": "python",
   "nbconvert_exporter": "python",
   "pygments_lexer": "ipython3",
   "version": "3.7.4"
  }
 },
 "nbformat": 4,
 "nbformat_minor": 2
}
