{
 "cells": [
  {
   "cell_type": "markdown",
   "metadata": {},
   "source": [
    "#### This program takes a modular approach. The user can provide all the initial details at the beginning. The Hough Algorithm then gives the output at its maximum accuracy. "
   ]
  },
  {
   "cell_type": "code",
   "execution_count": 189,
   "metadata": {},
   "outputs": [],
   "source": [
    "import numpy as np\n",
    "import matplotlib.pyplot as plt\n",
    "import matplotlib.image as mpimg\n",
    "import pandas\n",
    "import math\n",
    "import random\n",
    "import cv2\n",
    "import scipy.ndimage.filters as filters\n",
    "import scipy.ndimage as ndimage\n",
    "from scipy import stats \n",
    "import sklearn.metrics as metrics\n",
    "from sklearn.metrics import roc_auc_score\n",
    "from sklearn.metrics import roc_curve, auc"
   ]
  },
  {
   "cell_type": "code",
   "execution_count": 190,
   "metadata": {},
   "outputs": [],
   "source": [
    "def get_image(image,SNR,sigma,alpha,xbar,ybar):\n",
    "    for i in range(0,image.shape[0]):\n",
    "        for j in range(0,image.shape[1]):\n",
    "            intensity=SNR*exp(-((((j-ybar))*cos(alpha))-(((i-xbar))*sin(alpha)))**2/(2*(sigma)**2))\n",
    "            pixel[i,j]=(intensity,intensity,0)\n",
    "    return pixel"
   ]
  },
  {
   "cell_type": "code",
   "execution_count": 191,
   "metadata": {},
   "outputs": [],
   "source": [
    "def get_gray(pixel):\n",
    "    pixel_gray=np.dot(pixel, [1,1,1])\n",
    "    return pixel_gray"
   ]
  },
  {
   "cell_type": "code",
   "execution_count": 192,
   "metadata": {},
   "outputs": [],
   "source": [
    "def get_binary_gray(pixel_gray):\n",
    "    binary_gray=mpimg.imread(r\"\\Users\\Kaustav Dutta\\Desktop\\test.png\");\n",
    "    \n",
    "    for i in range(0,pixel_gray.shape[0]):\n",
    "        for j in range(0,pixel_gray.shape[1]):\n",
    "            if(pixel_gray[i,j]<(np.max(pixel_gray)/2)):\n",
    "                binary_gray[i,j]=(0,0,0)\n",
    "    return binary_gray"
   ]
  },
  {
   "cell_type": "code",
   "execution_count": 193,
   "metadata": {},
   "outputs": [],
   "source": [
    "def get_pixel_new(pixel_gray):\n",
    "    noise=np.random.normal(0,1,(pixel_gray.shape[0],pixel_gray.shape[1]))               \n",
    "    pixel_new = np.abs(sqrt(SNR)*pixel_gray + noise)\n",
    "    return pixel_new"
   ]
  },
  {
   "cell_type": "code",
   "execution_count": 194,
   "metadata": {},
   "outputs": [],
   "source": [
    "def get_pixel_new_binary(pixel_new,th_pixel_gray):\n",
    "    pixel_new_binary=np.zeros(shape=(pixel_new.shape[0],pixel_new.shape[1]))\n",
    "    for i in range(0,pixel_new.shape[0]):\n",
    "        for j in range(0,pixel_new.shape[1]):\n",
    "            if (pixel_new[i,j]>th_pixel_gray):\n",
    "                pixel_new_binary[i,j]=1\n",
    "    return pixel_new_binary"
   ]
  },
  {
   "cell_type": "code",
   "execution_count": 195,
   "metadata": {},
   "outputs": [],
   "source": [
    "def get_noisy_binary_img(pixel_new_binary):\n",
    "    \n",
    "    noisy_binary_img= mpimg.imread(r\"\\Users\\Kaustav Dutta\\Desktop\\test.png\");\n",
    "   # noisy_binary_img=np.where(pixel_new_binary[i,j]==0,(0,0,0))\n",
    "    \n",
    "    for i in range(0,pixel_new_binary.shape[0]):\n",
    "        for j in range(0,pixel_new_binary.shape[1]):\n",
    "            if (pixel_new_binary[i,j]==0):\n",
    "                noisy_binary_img[i,j]=(0,0,0)\n",
    "    return noisy_binary_img"
   ]
  },
  {
   "cell_type": "code",
   "execution_count": 196,
   "metadata": {},
   "outputs": [],
   "source": [
    "def get_hough_space(pixel_new_binary):\n",
    "\n",
    "    x_max = pixel_new.shape[0]\n",
    "    y_max = pixel_new.shape[1]\n",
    "\n",
    "    theta_max = 1.0 *pi \n",
    "    theta_min = 0.0\n",
    "\n",
    "    r_min = 0.0\n",
    "    r_max = math.hypot(x_max, y_max)\n",
    "\n",
    "    r_dim = 200 \n",
    "    theta_dim = 300\n",
    "\n",
    "    count_coord=500\n",
    "    points_x=np.zeros(shape=(r_dim,theta_dim,count_coord),dtype='int')\n",
    "    points_y=np.zeros(shape=(r_dim,theta_dim,count_coord),dtype='int')\n",
    "   # count=np.zeros(shape=(r_dim,theta_dim),dtype='int')\n",
    "\n",
    "    hough_space = np.zeros(shape=(r_dim,theta_dim),dtype='int')\n",
    "\n",
    "    for x in range(x_max):\n",
    "        for y in range(y_max):\n",
    "            if pixel_new_binary[x,y] == 0: continue\n",
    "            for itheta in range(theta_dim):\n",
    "                \n",
    "                theta =1.0 *itheta * theta_max / theta_dim\n",
    "                r = x * cos(theta) + y * sin(theta)\n",
    "                ir = int(r_dim * ( 1.0 * r ) / r_max)\n",
    "                        \n",
    "                points_x[ir,itheta,hough_space[ir,itheta]]=x\n",
    "                points_y[ir,itheta,hough_space[ir,itheta]]=y\n",
    "               \n",
    "                #count[ir,itheta]=count[ir,itheta]+1\n",
    "            \n",
    "                hough_space[ir,itheta] = hough_space[ir,itheta] + 1\n",
    "               # print(hough_space[ir,itheta])\n",
    "                \n",
    "    return hough_space,points_x,points_y             "
   ]
  },
  {
   "cell_type": "code",
   "execution_count": 197,
   "metadata": {},
   "outputs": [],
   "source": [
    "def get_max_accuracy(pixel_gray):\n",
    "    max_points=int(math.hypot(pixel.shape[0],pixel.shape[1]))\n",
    "    accuracy=np.zeros(max_points)\n",
    "    max_accuracy_index=0\n",
    "    \n",
    "    y_true=np.zeros(shape=(pixel.shape[0],pixel.shape[1]))\n",
    "    for i in range(0,pixel_gray.shape[0]):\n",
    "        for j in range(0,pixel_gray.shape[1]):\n",
    "            if(pixel_gray[i,j]>=(np.max(pixel_gray))/4):\n",
    "                y_true[i,j]=1\n",
    "    y_true=y_true.flatten()\n",
    "    \n",
    "    r_dim = 200 \n",
    "    theta_dim = 300\n",
    "    \n",
    "    for thresh in range(0,max_points):\n",
    "        y_pred=np.zeros(shape=(pixel.shape[0],pixel.shape[1]))\n",
    "        hough_space_binary=np.zeros(shape=(r_dim,theta_dim))\n",
    "        for i in range(hough_space.shape[0]):\n",
    "            for j in range(hough_space.shape[1]):\n",
    "                if (hough_space[i,j]>=thresh):\n",
    "                    hough_space_binary[i,j]=1\n",
    "                \n",
    "        for r in range(hough_space.shape[0]):\n",
    "            for theta in range(hough_space.shape[1]):\n",
    "                if(hough_space_binary[r,theta]==1):\n",
    "                    for l in range(hough_space[r,theta]):\n",
    "                        y_pred[points_x[r,theta,l],points_y[r,theta,l]]=1\n",
    "                      \n",
    "        y_pred=y_pred.flatten()\n",
    "        accuracy[thresh]=metrics.accuracy_score(y_true, y_pred)\n",
    "        if(accuracy[thresh]==np.max(accuracy)):\n",
    "            max_accuracy_index=thresh\n",
    "            \n",
    "    return accuracy,max_accuracy_index"
   ]
  },
  {
   "cell_type": "code",
   "execution_count": 198,
   "metadata": {},
   "outputs": [],
   "source": [
    "def get_reverse_hough(hough_space,index,points_x,points_y):\n",
    "    \n",
    "    r_dim = 200 \n",
    "    theta_dim = 300\n",
    "    hough_space_binary=np.zeros(shape=(r_dim,theta_dim))\n",
    "    for i in range(hough_space.shape[0]):\n",
    "        for j in range(hough_space.shape[1]):\n",
    "            if (hough_space[i,j]>=index):\n",
    "                hough_space_binary[i,j]=1\n",
    "\n",
    "    reverse_hough = mpimg.imread(r\"\\Users\\Kaustav Dutta\\Desktop\\reverse_hough.png\")\n",
    "    for r in range(hough_space.shape[0]):\n",
    "        for theta in range(hough_space.shape[1]):\n",
    "            if(hough_space_binary[r,theta]==1):\n",
    "                for l in range(hough_space[r,theta]):\n",
    "                    reverse_hough[points_x[r,theta,l],points_y[r,theta,l]]=(1,1,1)\n",
    "                    \n",
    "    return reverse_hough"
   ]
  },
  {
   "cell_type": "code",
   "execution_count": 199,
   "metadata": {},
   "outputs": [],
   "source": [
    "def show_all(binary_gray,noisy_binary_img,reverse_hough):\n",
    "    plt.figure(figsize=(11,11))\n",
    "    plt.subplot(131), plt.imshow(binary_gray,origin='lower'),plt.title('True Binary Spectrogram')\n",
    "    plt.subplot(132), plt.imshow(noisy_binary_img,origin='lower'),plt.title('Binary spectrogram with Gaussian Noise')\n",
    "    plt.subplot(133), plt.imshow(reverse_hough,origin='lower'),plt.title('Reverse Hough Spectrogram')\n",
    "    plt.show()"
   ]
  },
  {
   "cell_type": "code",
   "execution_count": 206,
   "metadata": {},
   "outputs": [],
   "source": [
    "sqrt=math.sqrt\n",
    "pi=math.pi\n",
    "alpha=0.785398\n",
    "sigma=1\n",
    "ybar=10\n",
    "xbar=10\n",
    "exp=math.exp\n",
    "cos=math.cos\n",
    "sin=math.sin\n",
    "SNR=1.5\n",
    "f=0.6"
   ]
  },
  {
   "cell_type": "code",
   "execution_count": 207,
   "metadata": {},
   "outputs": [
    {
     "data": {
      "image/png": "[encoded data removed]",
      "text/plain": [
       "<Figure size 792x792 with 3 Axes>"
      ]
     },
     "metadata": {
      "needs_background": "light"
     },
     "output_type": "display_data"
    }
   ],
   "source": [
    "image=mpimg.imread(r\"\\Users\\Kaustav Dutta\\Desktop\\test.png\")\n",
    "pixel=get_image(image,SNR,sigma,alpha,xbar,ybar) #to get the track without any noise\n",
    "pixel_gray=get_gray(pixel)#to get the grayscale of the track image\n",
    "binary_gray=get_binary_gray(pixel_gray)#to get the true track pixels\n",
    "pixel_new=get_pixel_new(pixel_gray)#to introduce gaussian noise into the image\n",
    "\n",
    "th_pixel_gray=f*np.max(pixel_gray) #threshold for the pixels on which the Hough Algorithm will work\n",
    "\n",
    "pixel_new_binary=get_pixel_new_binary(pixel_new,th_pixel_gray) #binary matrix based on the threshold\n",
    "noisy_binary_img=get_noisy_binary_img(pixel_new_binary) #noisy image on which Hough Algorithm will work\n",
    "hough_space,points_x,points_y=get_hough_space(pixel_new_binary)#hough space generator\n",
    "max_accuracy,index=get_max_accuracy(pixel_gray) #gives the maximum accuracy of the Hough Transform\n",
    "reverse_hough=get_reverse_hough(hough_space,index,points_x, points_y) #gives the final hough transform \n",
    "show_all(binary_gray,noisy_binary_img,reverse_hough) #compares the different stages of the algorithm"
   ]
  }
 ],
 "metadata": {
  "kernelspec": {
   "display_name": "Python 3",
   "language": "python",
   "name": "python3"
  },
  "language_info": {
   "codemirror_mode": {
    "name": "ipython",
    "version": 3
   },
   "file_extension": ".py",
   "mimetype": "text/x-python",
   "name": "python",
   "nbconvert_exporter": "python",
   "pygments_lexer": "ipython3",
   "version": "3.7.4"
  }
 },
 "nbformat": 4,
 "nbformat_minor": 2
}
